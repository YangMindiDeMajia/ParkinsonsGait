{
 "metadata": {
  "name": "",
  "signature": "sha256:dfcb7e89c6bd1f9811228b59fa7667efe5f8649e8c4ff7e1472662f6dc4c2aa2"
 },
 "nbformat": 3,
 "nbformat_minor": 0,
 "worksheets": [
  {
   "cells": [
    {
     "cell_type": "code",
     "collapsed": false,
     "input": [
      "import os\n",
      "import numpy as np\n",
      "import pandas as pd\n",
      "schema = ['Time', 'L1', 'L2', 'L3', 'L4', 'L5', 'L6', 'L7', 'L8', 'R1', 'R2', 'R3', 'R4', 'R5', 'R6', 'R7', 'R8', 'Total Force Left', 'Total Force Right']"
     ],
     "language": "python",
     "metadata": {},
     "outputs": [],
     "prompt_number": 3
    },
    {
     "cell_type": "code",
     "collapsed": false,
     "input": [
      "data = []\n",
      "keys = []\n",
      "X = []  #Will store design matrix. Note that for now, it takes the mean over the time for each sensor, to reduce feature space\n",
      "X_f = []\n",
      "for filename in os.listdir(os.getcwd()+'\\data'):\n",
      "    name = filename.split('_')\n",
      "    if name[1] == '02':         #For now, do nothing with the data of the dual-task walking from the Ga study\n",
      "        continue\n",
      "    df = pd.read_csv(\"data\\\\\" + filename , sep = '\\t', names=schema)\n",
      "    #m = np.matrix(df[schema[1:19]])\n",
      "    #flat = np.array(m).flatten().tolist()\n",
      "    #if len(flat) != 218142:\n",
      "        #print 'ERROR different feature lengths: %d, %s' % (len(flat), name[0])\n",
      "    X.append(df[schema[1:19]].mean())\n",
      "    #X_f.append(flat)\n",
      "    keys.append([name[0], 'auxData']);  #Save filename and auxData for future use, preprocessing\n",
      "    data.append(df);  "
     ],
     "language": "python",
     "metadata": {},
     "outputs": [],
     "prompt_number": 6
    },
    {
     "cell_type": "code",
     "collapsed": false,
     "input": [
      "infile = open('demographics.txt', 'r')\n",
      "dem_schema = infile.readline().split('\\t')"
     ],
     "language": "python",
     "metadata": {},
     "outputs": [],
     "prompt_number": 9
    },
    {
     "cell_type": "code",
     "collapsed": false,
     "input": [
      "df = pd.read_csv('demographics.txt', skiprows=[0], sep = '\\t', names=dem_schema)"
     ],
     "language": "python",
     "metadata": {},
     "outputs": [],
     "prompt_number": 10
    },
    {
     "cell_type": "code",
     "collapsed": false,
     "input": [
      "# TODO think of less hacky way to do this\n",
      "df = df[df.columns.values[0:20]]  #Delete bs data due to extra tab delimited spaces\n",
      "df = df[:166]                   #Delete nan columns"
     ],
     "language": "python",
     "metadata": {},
     "outputs": [],
     "prompt_number": 11
    },
    {
     "cell_type": "code",
     "collapsed": false,
     "input": [
      "#Build the target vector for the training set, order implicit in keys[]\n",
      "#Use the convention that Parkinson's maps to 1, control group maps to 0\n",
      "y = []\n",
      "for k in keys:\n",
      "    identification = k[0]\n",
      "    group = int((df.loc[df['ID'] == identification]['Group']))\n",
      "    if group == 1:\n",
      "        y.append(1)\n",
      "    else:\n",
      "        y.append(0)\n",
      "    "
     ],
     "language": "python",
     "metadata": {},
     "outputs": [],
     "prompt_number": 12
    },
    {
     "cell_type": "code",
     "collapsed": false,
     "input": [
      "t = np.array(X_f)"
     ],
     "language": "python",
     "metadata": {},
     "outputs": [],
     "prompt_number": 14
    },
    {
     "cell_type": "code",
     "collapsed": false,
     "input": [
      "#At this point, X is the correct design matrix and y the corresponding target vector\n",
      "#We add the feature x_0 = 1 to allow for intercept term in theta\n",
      "X = np.matrix(X)\n",
      "#X_f = np.matrix(X_f)\n",
      "intercept = np.matrix(np.ones(len(X)))\n",
      "X = np.concatenate((intercept.T, X), axis=1)\n",
      "#X_f = np.concatenate((intercept.T, X_f), axis=1)\n",
      "y = np.matrix(y)"
     ],
     "language": "python",
     "metadata": {},
     "outputs": [],
     "prompt_number": 16
    },
    {
     "cell_type": "code",
     "collapsed": false,
     "input": [
      "#Simple Unweighted Linear Regression\n",
      "from numpy.linalg import inv\n",
      "theta = inv(X.T * X)*X.T*y.T\n",
      "#theta_f = inv(X_f.T * X_f)*X_f.T*y.T"
     ],
     "language": "python",
     "metadata": {},
     "outputs": [],
     "prompt_number": 18
    },
    {
     "cell_type": "code",
     "collapsed": false,
     "input": [
      "output = []\n",
      "nExamples = (y.shape)[1]\n",
      "for pt in X:\n",
      "    h = theta.T * pt.T       #hypothesis for training example pt\n",
      "    if h>0:\n",
      "        output.append(1);\n",
      "    else:\n",
      "        output.append(0);\n",
      "        \n",
      "err = (output != y)      \n",
      "np.sum(err)/float(nExamples)"
     ],
     "language": "python",
     "metadata": {},
     "outputs": [
      {
       "metadata": {},
       "output_type": "pyout",
       "prompt_number": 19,
       "text": [
        "0.69934640522875813"
       ]
      }
     ],
     "prompt_number": 19
    }
   ],
   "metadata": {}
  }
 ]
}